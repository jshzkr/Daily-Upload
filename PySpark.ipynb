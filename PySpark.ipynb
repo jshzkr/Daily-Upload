{
 "cells": [
  {
   "cell_type": "markdown",
   "id": "572d5a40",
   "metadata": {},
   "source": [
    "## Data Transformation with PySpark"
   ]
  },
  {
   "cell_type": "code",
   "execution_count": 147,
   "id": "72a31c06",
   "metadata": {},
   "outputs": [],
   "source": [
    "SRC = \"/home/labuser/Downloads/Pandas_datasets/IMDB-Movie-Data.csv\""
   ]
  },
  {
   "cell_type": "code",
   "execution_count": 148,
   "id": "ff5645f4",
   "metadata": {},
   "outputs": [],
   "source": [
    "from pyspark.sql import SparkSession\n",
    "spark = SparkSession.builder.appName(\"TestApp\").getOrCreate()"
   ]
  },
  {
   "cell_type": "code",
   "execution_count": 149,
   "id": "8d807ea0",
   "metadata": {},
   "outputs": [],
   "source": [
    "sc=spark.sparkContext"
   ]
  },
  {
   "cell_type": "code",
   "execution_count": 150,
   "id": "46c80bf8",
   "metadata": {},
   "outputs": [],
   "source": [
    "Df = spark.read.option(\"inferSchema\",True).option(\"header\",True).csv(SRC)"
   ]
  },
  {
   "cell_type": "code",
   "execution_count": 151,
   "id": "b1a04a5c",
   "metadata": {},
   "outputs": [
    {
     "name": "stdout",
     "output_type": "stream",
     "text": [
      "root\n",
      " |-- Rank: integer (nullable = true)\n",
      " |-- Title: string (nullable = true)\n",
      " |-- Genre: string (nullable = true)\n",
      " |-- Description: string (nullable = true)\n",
      " |-- Director: string (nullable = true)\n",
      " |-- Actors: string (nullable = true)\n",
      " |-- Year: string (nullable = true)\n",
      " |-- Runtime (Minutes): string (nullable = true)\n",
      " |-- Rating: string (nullable = true)\n",
      " |-- Votes: string (nullable = true)\n",
      " |-- Revenue (Millions): double (nullable = true)\n",
      " |-- Metascore: double (nullable = true)\n",
      "\n"
     ]
    }
   ],
   "source": [
    "Df.printSchema()"
   ]
  },
  {
   "cell_type": "code",
   "execution_count": 152,
   "id": "88eb4f07",
   "metadata": {},
   "outputs": [
    {
     "data": {
      "text/plain": [
       "[('Rank', 'int'),\n",
       " ('Title', 'string'),\n",
       " ('Genre', 'string'),\n",
       " ('Description', 'string'),\n",
       " ('Director', 'string'),\n",
       " ('Actors', 'string'),\n",
       " ('Year', 'string'),\n",
       " ('Runtime (Minutes)', 'string'),\n",
       " ('Rating', 'string'),\n",
       " ('Votes', 'string'),\n",
       " ('Revenue (Millions)', 'double'),\n",
       " ('Metascore', 'double')]"
      ]
     },
     "execution_count": 152,
     "metadata": {},
     "output_type": "execute_result"
    }
   ],
   "source": [
    "Df.dtypes"
   ]
  },
  {
   "cell_type": "code",
   "execution_count": 153,
   "id": "f4bb8889",
   "metadata": {},
   "outputs": [
    {
     "name": "stdout",
     "output_type": "stream",
     "text": [
      "+----+--------------------+--------------------+--------------------+--------------------+--------------------+--------------------+-----------------+------+------+------------------+---------+\n",
      "|Rank|               Title|               Genre|         Description|            Director|              Actors|                Year|Runtime (Minutes)|Rating| Votes|Revenue (Millions)|Metascore|\n",
      "+----+--------------------+--------------------+--------------------+--------------------+--------------------+--------------------+-----------------+------+------+------------------+---------+\n",
      "|   1|Guardians of the ...|Action,Adventure,...|A group of interg...|          James Gunn|Chris Pratt, Vin ...|                2014|              121|   8.1|757074|            333.13|     76.0|\n",
      "|   2|          Prometheus|Adventure,Mystery...|Following clues t...|        Ridley Scott|Noomi Rapace, Log...|                2012|              124|     7|485820|            126.46|     65.0|\n",
      "|   3|               Split|     Horror,Thriller|Three girls are k...|  M. Night Shyamalan|James McAvoy, Any...|                2016|              117|   7.3|157606|            138.12|     62.0|\n",
      "|   4|                Sing|Animation,Comedy,...|In a city of huma...|Christophe Lourdelet|Matthew McConaugh...|                2016|              108|   7.2| 60545|            270.32|     59.0|\n",
      "|   5|       Suicide Squad|Action,Adventure,...|A secret governme...|          David Ayer|Will Smith, Jared...|                2016|              123|   6.2|393727|            325.02|     40.0|\n",
      "|   6|      The Great Wall|Action,Adventure,...|European mercenar...|         Yimou Zhang|Matt Damon, Tian ...|                2016|              103|   6.1| 56036|             45.13|     42.0|\n",
      "|   7|          La La Land|  Comedy,Drama,Music|A jazz pianist fa...|     Damien Chazelle|Ryan Gosling, Emm...|                2016|              128|   8.3|258682|            151.06|     93.0|\n",
      "|   8|            Mindhorn|              Comedy|\"A has-been actor...| whom he believes...|          Sean Foley|Essie Davis, Andr...|             2016|    89|   6.4|            2490.0|     null|\n",
      "|   9|  The Lost City of Z|Action,Adventure,...|A true-life drama...|          James Gray|Charlie Hunnam, R...|                2016|              141|   7.1|  7188|              8.01|     78.0|\n",
      "|  10|          Passengers|Adventure,Drama,R...|A spacecraft trav...|       Morten Tyldum|Jennifer Lawrence...|                2016|              116|     7|192177|            100.01|     41.0|\n",
      "|  11|Fantastic Beasts ...|Adventure,Family,...|The adventures of...|         David Yates|Eddie Redmayne, K...|                2016|              133|   7.5|232072|            234.02|     66.0|\n",
      "|  12|      Hidden Figures|Biography,Drama,H...|The story of a te...|      Theodore Melfi|Taraji P. Henson,...|                2016|              127|   7.8| 93103|            169.27|     74.0|\n",
      "|  13|           Rogue One|Action,Adventure,...|The Rebel Allianc...|      Gareth Edwards|Felicity Jones, D...|                2016|              133|   7.9|323118|            532.17|     65.0|\n",
      "|  14|               Moana|Animation,Adventu...|In Ancient Polyne...|        Ron Clements|Auli'i Cravalho, ...|                2016|              107|   7.7|118151|            248.75|     81.0|\n",
      "|  15|            Colossal| Action,Comedy,Drama|Gloria is an out-...|     Nacho Vigalondo|Anne Hathaway, Ja...|                2016|              109|   6.4|  8612|              2.87|     70.0|\n",
      "|  16|The Secret Life o...|Animation,Adventu...|The quiet life of...|        Chris Renaud|Louis C.K., Eric ...|                2016|               87|   6.6|120259|            368.31|     61.0|\n",
      "|  17|       Hacksaw Ridge|Biography,Drama,H...|WWII American Arm...|          Mel Gibson|Andrew Garfield, ...|                2016|              139|   8.2|211760|             67.12|     71.0|\n",
      "|  18|        Jason Bourne|     Action,Thriller|The CIA's most da...|     Paul Greengrass|Matt Damon, Tommy...|                2016|              123|   6.7|150823|            162.16|     58.0|\n",
      "|  19|                Lion|     Biography,Drama|A five-year-old I...|         Garth Davis|Dev Patel, Nicole...|                2016|              118|   8.1|102061|             51.69|     69.0|\n",
      "|  20|             Arrival|Drama,Mystery,Sci-Fi|When twelve myste...|    Denis Villeneuve|Amy Adams, Jeremy...|                2016|              116|     8|340798|             100.5|     81.0|\n",
      "+----+--------------------+--------------------+--------------------+--------------------+--------------------+--------------------+-----------------+------+------+------------------+---------+\n",
      "only showing top 20 rows\n",
      "\n"
     ]
    }
   ],
   "source": [
    "Df.show()"
   ]
  },
  {
   "cell_type": "code",
   "execution_count": 154,
   "id": "049cab74",
   "metadata": {},
   "outputs": [
    {
     "data": {
      "text/plain": [
       "1"
      ]
     },
     "execution_count": 154,
     "metadata": {},
     "output_type": "execute_result"
    }
   ],
   "source": [
    "Df.rdd.getNumPartitions()"
   ]
  },
  {
   "cell_type": "markdown",
   "id": "a5c20bfc",
   "metadata": {},
   "source": [
    "### Creating a Custom Partition"
   ]
  },
  {
   "cell_type": "code",
   "execution_count": 155,
   "id": "0583a83d",
   "metadata": {},
   "outputs": [],
   "source": [
    "Df = Df.repartition(8)"
   ]
  },
  {
   "cell_type": "code",
   "execution_count": 156,
   "id": "f8d1a931",
   "metadata": {},
   "outputs": [
    {
     "data": {
      "text/plain": [
       "8"
      ]
     },
     "execution_count": 156,
     "metadata": {},
     "output_type": "execute_result"
    }
   ],
   "source": [
    "Df.rdd.getNumPartitions()"
   ]
  },
  {
   "cell_type": "code",
   "execution_count": 157,
   "id": "0ed767c4",
   "metadata": {},
   "outputs": [
    {
     "name": "stdout",
     "output_type": "stream",
     "text": [
      "StructField('Rank', IntegerType(), True)\n",
      "StructField('Title', StringType(), True)\n",
      "StructField('Genre', StringType(), True)\n",
      "StructField('Description', StringType(), True)\n",
      "StructField('Director', StringType(), True)\n",
      "StructField('Actors', StringType(), True)\n",
      "StructField('Year', StringType(), True)\n",
      "StructField('Runtime (Minutes)', StringType(), True)\n",
      "StructField('Rating', StringType(), True)\n",
      "StructField('Votes', StringType(), True)\n",
      "StructField('Revenue (Millions)', DoubleType(), True)\n",
      "StructField('Metascore', DoubleType(), True)\n"
     ]
    }
   ],
   "source": [
    "for item in Df.schema:\n",
    "    print(item)"
   ]
  },
  {
   "cell_type": "markdown",
   "id": "6ca8c80b",
   "metadata": {},
   "source": [
    "### Accessing Web URL of Spark"
   ]
  },
  {
   "cell_type": "code",
   "execution_count": 158,
   "id": "583437c4",
   "metadata": {},
   "outputs": [
    {
     "name": "stdout",
     "output_type": "stream",
     "text": [
      "http://ip-172-31-5-77.ap-south-1.compute.internal:4040\n"
     ]
    }
   ],
   "source": [
    "print(sc.uiWebUrl)"
   ]
  },
  {
   "cell_type": "code",
   "execution_count": 159,
   "id": "ac22dcfd",
   "metadata": {},
   "outputs": [
    {
     "name": "stdout",
     "output_type": "stream",
     "text": [
      "http://ip-172-31-5-77.ap-south-1.compute.internal:4040\n"
     ]
    }
   ],
   "source": [
    "print(spark._sc.uiWebUrl)"
   ]
  },
  {
   "cell_type": "markdown",
   "id": "f7bd824e",
   "metadata": {},
   "source": [
    "## Writing the SQL code"
   ]
  },
  {
   "cell_type": "code",
   "execution_count": 160,
   "id": "918bbd25",
   "metadata": {},
   "outputs": [],
   "source": [
    "Df.createOrReplaceTempView(\"movie\")"
   ]
  },
  {
   "cell_type": "markdown",
   "id": "4133bad0",
   "metadata": {},
   "source": [
    "### Accessing the data from the table"
   ]
  },
  {
   "cell_type": "code",
   "execution_count": 161,
   "id": "84134ffe",
   "metadata": {},
   "outputs": [],
   "source": [
    "SQL = \"SELECT * FROM movie\"\n",
    "newDf = spark.sql(SQL)"
   ]
  },
  {
   "cell_type": "code",
   "execution_count": 162,
   "id": "6a3dde5b",
   "metadata": {},
   "outputs": [
    {
     "name": "stdout",
     "output_type": "stream",
     "text": [
      "+----+--------------------+--------------------+--------------------+--------------------+--------------------+----+-----------------+------+------+------------------+---------+\n",
      "|Rank|               Title|               Genre|         Description|            Director|              Actors|Year|Runtime (Minutes)|Rating| Votes|Revenue (Millions)|Metascore|\n",
      "+----+--------------------+--------------------+--------------------+--------------------+--------------------+----+-----------------+------+------+------------------+---------+\n",
      "| 427|Sin City: A Dame ...|Action,Crime,Thri...|Some of Sin City'...|        Frank Miller|Mickey Rourke, Je...|2014|              102|   6.5|122185|             13.75|     46.0|\n",
      "| 672|            Child 44|Crime,Drama,Thriller|A disgraced membe...|     Daniel Espinosa|Tom Hardy, Gary O...|2015|              137|   6.5| 47703|              1.21|     41.0|\n",
      "| 782|           Self/less|Action,Mystery,Sc...|A dying real esta...|        Tarsem Singh|Ryan Reynolds, Na...|2015|              117|   6.5| 67196|             12.28|     34.0|\n",
      "| 395|         Grown Ups 2|              Comedy|After moving his ...|        Dennis Dugan|Adam Sandler, Kev...|2013|              101|   5.4|114482|            133.67|     19.0|\n",
      "| 495|      Under the Skin| Drama,Horror,Sci-Fi|A mysterious youn...|     Jonathan Glazer|Scarlett Johansso...|2013|              108|   6.3| 94707|              2.61|     78.0|\n",
      "| 474|Harry Potter and ...|Adventure,Family,...|\"As Harry Potter ...|         David Yates|Daniel Radcliffe,...|2009|              153|   7.5|351059|            301.96|     78.0|\n",
      "|  97|       Kimi no na wa|Animation,Drama,F...|Two strangers fin...|      Makoto Shinkai|Ryûnosuke Kamiki,...|2016|              106|   8.6| 34110|              4.68|     79.0|\n",
      "| 768|Indiana Jones and...|Action,Adventure,...|\"Famed archaeolog...|    Steven Spielberg|Harrison Ford, Ca...|2008|              122|   6.2|351361|            317.01|     65.0|\n",
      "| 665|            L'avenir|               Drama|A philosophy teac...|     Mia Hansen-Løve|Isabelle Huppert,...|2016|              102|   7.1|  5796|              0.28|     88.0|\n",
      "| 772|      The Assignment|Action,Crime,Thri...|After waking up a...|         Walter Hill|Sigourney Weaver,...|2016|               95|   4.5|  2043|              null|     34.0|\n",
      "| 634|    Megan Is Missing|Drama,Horror,Thri...|Two teenage girls...|         Michael Goi|Amber Perkins, Ra...|2011|               85|   4.9|  6683|              null|     94.0|\n",
      "| 258|Rise of the Plane...| Action,Drama,Sci-Fi|A substance, desi...|        Rupert Wyatt|James Franco, And...|2011|              105|   7.6|422290|            176.74|     68.0|\n",
      "| 603|He's Just Not Tha...|Comedy,Drama,Romance|The Baltimore-set...|          Ken Kwapis|Jennifer Aniston,...|2009|              129|   6.4|137684|              null|     47.0|\n",
      "| 989|             Martyrs|              Horror|A young woman's q...|      Pascal Laugier|Morjana Alaoui, M...|2008|               99|   7.1| 63785|              null|     89.0|\n",
      "| 581|Kickboxer: Vengeance|              Action|A kick boxer is o...|      John Stockwell|Dave Bautista, Al...|2016|               90|   4.9|  6809|            131.56|     37.0|\n",
      "| 137|No Country for Ol...|Crime,Drama,Thriller|Violence and mayh...|          Ethan Coen|Tommy Lee Jones, ...|2007|              122|   8.1|660286|             74.27|     91.0|\n",
      "| 609|               Mommy|               Drama|A widowed single ...|        Xavier Dolan|Anne Dorval, Anto...|2014|              139|   8.1| 33560|              3.49|     74.0|\n",
      "| 649|     Sleeping Beauty|       Drama,Romance|A haunting portra...|         Julia Leigh|Emily Browning, R...|2011|              101|   5.3| 27006|              0.03|     null|\n",
      "| 445|        The Thinning|            Thriller|\"\"\"The Thinning\"\"...|Michael J. Gallagher|Logan Paul, Peyto...|2016|               81|     6|  4531|              null|     31.0|\n",
      "| 164|Jack Reacher: Nev...|Action,Adventure,...|Jack Reacher must...|        Edward Zwick|Tom Cruise, Cobie...|2016|              118|   6.1| 78043|              58.4|     47.0|\n",
      "+----+--------------------+--------------------+--------------------+--------------------+--------------------+----+-----------------+------+------+------------------+---------+\n",
      "only showing top 20 rows\n",
      "\n"
     ]
    }
   ],
   "source": [
    "newDf.show()"
   ]
  },
  {
   "cell_type": "code",
   "execution_count": 163,
   "id": "1d0fe4cf",
   "metadata": {},
   "outputs": [
    {
     "name": "stdout",
     "output_type": "stream",
     "text": [
      "+----+--------------+--------------------+--------------------+-----------+--------------------+----+-----------------+------+-----+------------------+---------+\n",
      "|Rank|         Title|               Genre|         Description|   Director|              Actors|Year|Runtime (Minutes)|Rating|Votes|Revenue (Millions)|Metascore|\n",
      "+----+--------------+--------------------+--------------------+-----------+--------------------+----+-----------------+------+-----+------------------+---------+\n",
      "|   6|The Great Wall|Action,Adventure,...|European mercenar...|Yimou Zhang|Matt Damon, Tian ...|2016|              103|   6.1|56036|             45.13|     42.0|\n",
      "+----+--------------+--------------------+--------------------+-----------+--------------------+----+-----------------+------+-----+------------------+---------+\n",
      "\n"
     ]
    }
   ],
   "source": [
    "WHERE = \"SELECT * FROM movie WHERE RANK = 6\"\n",
    "whereDf = spark.sql(WHERE)\n",
    "whereDf.show()"
   ]
  },
  {
   "cell_type": "markdown",
   "id": "50ee3b2d",
   "metadata": {},
   "source": [
    "### Transformation of Data"
   ]
  },
  {
   "cell_type": "code",
   "execution_count": 164,
   "id": "37a42f86",
   "metadata": {},
   "outputs": [],
   "source": [
    "import pyspark.sql.functions as fn"
   ]
  },
  {
   "cell_type": "code",
   "execution_count": 165,
   "id": "06fc7ae7",
   "metadata": {},
   "outputs": [
    {
     "name": "stdout",
     "output_type": "stream",
     "text": [
      "[('Rank', 'int'), ('Title', 'string'), ('Genre', 'string'), ('Description', 'string'), ('Director', 'string'), ('Actors', 'string'), ('Year', 'string'), ('Runtime (Minutes)', 'string'), ('Rating', 'string'), ('Votes', 'string'), ('Revenue (Millions)', 'double'), ('Metascore', 'double')]\n"
     ]
    }
   ],
   "source": [
    "print(Df.dtypes)"
   ]
  },
  {
   "cell_type": "code",
   "execution_count": 166,
   "id": "be0a480f",
   "metadata": {},
   "outputs": [],
   "source": [
    "testDf = Df.sort(fn.col('Title')).select('Rank','Title','Director')"
   ]
  },
  {
   "cell_type": "code",
   "execution_count": 167,
   "id": "b2fafff4",
   "metadata": {},
   "outputs": [
    {
     "name": "stdout",
     "output_type": "stream",
     "text": [
      "+------------------+-----+\n",
      "|          Director|count|\n",
      "+------------------+-----+\n",
      "|    Chan-wook Park|    1|\n",
      "|George Tillman Jr.|    3|\n",
      "|   Terrence Malick|    2|\n",
      "|   Louis Leterrier|    4|\n",
      "|  Jeremy Gillespie|    1|\n",
      "|        Tim Burton|    4|\n",
      "|        Sam Mendes|    3|\n",
      "|    Matthew Vaughn|    4|\n",
      "|     Glenn Ficarra|    3|\n",
      "|         Billy Ray|    1|\n",
      "|     James Mangold|    1|\n",
      "|    Mike Birbiglia|    1|\n",
      "| David F. Sandberg|    1|\n",
      "|Paul W.S. Anderson|    6|\n",
      "|      Jeff Nichols|    2|\n",
      "|   Stephen Sommers|    1|\n",
      "|  Steven Shainberg|    1|\n",
      "|       Ben Stiller|    3|\n",
      "|   François Simard|    1|\n",
      "|Sam Taylor-Johnson|    1|\n",
      "+------------------+-----+\n",
      "only showing top 20 rows\n",
      "\n"
     ]
    }
   ],
   "source": [
    "testDf.groupBy('Director').count().show()"
   ]
  },
  {
   "cell_type": "code",
   "execution_count": 168,
   "id": "d7955983",
   "metadata": {},
   "outputs": [
    {
     "name": "stdout",
     "output_type": "stream",
     "text": [
      "+----+--------------------+--------------------+\n",
      "|Rank|               Title|            Director|\n",
      "+----+--------------------+--------------------+\n",
      "| 508|(500) Days of Summer|           Marc Webb|\n",
      "| 119| 10 Cloverfield Lane|    Dan Trachtenberg|\n",
      "| 697|            10 Years|        Jamie Linden|\n",
      "| 112|    12 Years a Slave|       Steve McQueen|\n",
      "| 818|           127 Hours|         Danny Boyle|\n",
      "| 169|            13 Hours|         Michael Bay|\n",
      "| 805|                1408|     Mikael Håfström|\n",
      "| 923|            17 Again|         Burr Steers|\n",
      "| 473|                2012|     Roland Emmerich|\n",
      "| 248|  20th Century Women|          Mike Mills|\n",
      "| 851|                  21|      Robert Luketic|\n",
      "| 273|      21 Jump Street|           Phil Lord|\n",
      "| 277|      22 Jump Street|           Phil Lord|\n",
      "| 617|2307: Winter's Dream|         Joey Curtis|\n",
      "| 876|      28 Weeks Later|Juan Carlos Fresn...|\n",
      "| 959|      3 Days to Kill|                 McG|\n",
      "| 431|            3 Idiots|     Rajkumar Hirani|\n",
      "| 114|                 300|         Zack Snyder|\n",
      "| 424|300: Rise of an E...|          Noam Murro|\n",
      "| 777|                  31|          Rob Zombie|\n",
      "+----+--------------------+--------------------+\n",
      "only showing top 20 rows\n",
      "\n"
     ]
    }
   ],
   "source": [
    "testDf.show()"
   ]
  },
  {
   "cell_type": "code",
   "execution_count": 169,
   "id": "e0a89d54",
   "metadata": {},
   "outputs": [],
   "source": [
    "from datetime import datetime as dt\n",
    "testDf = testDf.withColumn('last_updated',fn.lit(str(dt.now())))"
   ]
  },
  {
   "cell_type": "code",
   "execution_count": 170,
   "id": "7926f273",
   "metadata": {},
   "outputs": [
    {
     "name": "stdout",
     "output_type": "stream",
     "text": [
      "+----+--------------------+--------------------+--------------------+\n",
      "|Rank|               Title|            Director|        last_updated|\n",
      "+----+--------------------+--------------------+--------------------+\n",
      "| 508|(500) Days of Summer|           Marc Webb|2023-09-22 08:04:...|\n",
      "| 119| 10 Cloverfield Lane|    Dan Trachtenberg|2023-09-22 08:04:...|\n",
      "| 697|            10 Years|        Jamie Linden|2023-09-22 08:04:...|\n",
      "| 112|    12 Years a Slave|       Steve McQueen|2023-09-22 08:04:...|\n",
      "| 818|           127 Hours|         Danny Boyle|2023-09-22 08:04:...|\n",
      "| 169|            13 Hours|         Michael Bay|2023-09-22 08:04:...|\n",
      "| 805|                1408|     Mikael Håfström|2023-09-22 08:04:...|\n",
      "| 923|            17 Again|         Burr Steers|2023-09-22 08:04:...|\n",
      "| 473|                2012|     Roland Emmerich|2023-09-22 08:04:...|\n",
      "| 248|  20th Century Women|          Mike Mills|2023-09-22 08:04:...|\n",
      "| 851|                  21|      Robert Luketic|2023-09-22 08:04:...|\n",
      "| 273|      21 Jump Street|           Phil Lord|2023-09-22 08:04:...|\n",
      "| 277|      22 Jump Street|           Phil Lord|2023-09-22 08:04:...|\n",
      "| 617|2307: Winter's Dream|         Joey Curtis|2023-09-22 08:04:...|\n",
      "| 876|      28 Weeks Later|Juan Carlos Fresn...|2023-09-22 08:04:...|\n",
      "| 959|      3 Days to Kill|                 McG|2023-09-22 08:04:...|\n",
      "| 431|            3 Idiots|     Rajkumar Hirani|2023-09-22 08:04:...|\n",
      "| 114|                 300|         Zack Snyder|2023-09-22 08:04:...|\n",
      "| 424|300: Rise of an E...|          Noam Murro|2023-09-22 08:04:...|\n",
      "| 777|                  31|          Rob Zombie|2023-09-22 08:04:...|\n",
      "+----+--------------------+--------------------+--------------------+\n",
      "only showing top 20 rows\n",
      "\n"
     ]
    }
   ],
   "source": [
    "testDf.show()"
   ]
  },
  {
   "cell_type": "markdown",
   "id": "63e61028",
   "metadata": {},
   "source": [
    "### Select with expression"
   ]
  },
  {
   "cell_type": "code",
   "execution_count": 171,
   "id": "da4e1300",
   "metadata": {},
   "outputs": [],
   "source": [
    "EXPRESSION = \"CAST(last_updated AS DATE) AS test\"\n",
    "testDf = testDf.selectExpr(EXPRESSION,'Title')"
   ]
  },
  {
   "cell_type": "code",
   "execution_count": 172,
   "id": "88987a53",
   "metadata": {},
   "outputs": [
    {
     "name": "stdout",
     "output_type": "stream",
     "text": [
      "+----------+--------------------+\n",
      "|      test|               Title|\n",
      "+----------+--------------------+\n",
      "|2023-09-22|(500) Days of Summer|\n",
      "|2023-09-22| 10 Cloverfield Lane|\n",
      "|2023-09-22|            10 Years|\n",
      "|2023-09-22|    12 Years a Slave|\n",
      "|2023-09-22|           127 Hours|\n",
      "|2023-09-22|            13 Hours|\n",
      "|2023-09-22|                1408|\n",
      "|2023-09-22|            17 Again|\n",
      "|2023-09-22|                2012|\n",
      "|2023-09-22|  20th Century Women|\n",
      "|2023-09-22|                  21|\n",
      "|2023-09-22|      21 Jump Street|\n",
      "|2023-09-22|      22 Jump Street|\n",
      "|2023-09-22|2307: Winter's Dream|\n",
      "|2023-09-22|      28 Weeks Later|\n",
      "|2023-09-22|      3 Days to Kill|\n",
      "|2023-09-22|            3 Idiots|\n",
      "|2023-09-22|                 300|\n",
      "|2023-09-22|300: Rise of an E...|\n",
      "|2023-09-22|                  31|\n",
      "+----------+--------------------+\n",
      "only showing top 20 rows\n",
      "\n"
     ]
    }
   ],
   "source": [
    "testDf.show()"
   ]
  },
  {
   "cell_type": "markdown",
   "id": "11b44184",
   "metadata": {},
   "source": [
    "### Alias"
   ]
  },
  {
   "cell_type": "code",
   "execution_count": 173,
   "id": "11a19f2f",
   "metadata": {},
   "outputs": [],
   "source": [
    "testDf = testDf.select(fn.col(\"Title\").alias(\"Movie\"))"
   ]
  },
  {
   "cell_type": "markdown",
   "id": "72a0ee71",
   "metadata": {},
   "source": [
    "### Handling the null values"
   ]
  },
  {
   "cell_type": "code",
   "execution_count": 174,
   "id": "4aa1a0d7",
   "metadata": {},
   "outputs": [
    {
     "data": {
      "text/plain": [
       "['__class__',\n",
       " '__delattr__',\n",
       " '__dict__',\n",
       " '__dir__',\n",
       " '__doc__',\n",
       " '__eq__',\n",
       " '__format__',\n",
       " '__ge__',\n",
       " '__getattr__',\n",
       " '__getattribute__',\n",
       " '__getitem__',\n",
       " '__getstate__',\n",
       " '__gt__',\n",
       " '__hash__',\n",
       " '__init__',\n",
       " '__init_subclass__',\n",
       " '__le__',\n",
       " '__lt__',\n",
       " '__module__',\n",
       " '__ne__',\n",
       " '__new__',\n",
       " '__reduce__',\n",
       " '__reduce_ex__',\n",
       " '__repr__',\n",
       " '__setattr__',\n",
       " '__sizeof__',\n",
       " '__str__',\n",
       " '__subclasshook__',\n",
       " '__weakref__',\n",
       " '_collect_as_arrow',\n",
       " '_jcols',\n",
       " '_jdf',\n",
       " '_jmap',\n",
       " '_joinAsOf',\n",
       " '_jseq',\n",
       " '_lazy_rdd',\n",
       " '_repr_html_',\n",
       " '_sc',\n",
       " '_schema',\n",
       " '_session',\n",
       " '_sort_cols',\n",
       " '_sql_ctx',\n",
       " '_support_repr_html',\n",
       " '_to_corrected_pandas_type',\n",
       " 'agg',\n",
       " 'alias',\n",
       " 'approxQuantile',\n",
       " 'cache',\n",
       " 'checkpoint',\n",
       " 'coalesce',\n",
       " 'colRegex',\n",
       " 'collect',\n",
       " 'columns',\n",
       " 'corr',\n",
       " 'count',\n",
       " 'cov',\n",
       " 'createGlobalTempView',\n",
       " 'createOrReplaceGlobalTempView',\n",
       " 'createOrReplaceTempView',\n",
       " 'createTempView',\n",
       " 'crossJoin',\n",
       " 'crosstab',\n",
       " 'cube',\n",
       " 'describe',\n",
       " 'distinct',\n",
       " 'drop',\n",
       " 'dropDuplicates',\n",
       " 'drop_duplicates',\n",
       " 'dropna',\n",
       " 'dtypes',\n",
       " 'exceptAll',\n",
       " 'explain',\n",
       " 'fillna',\n",
       " 'filter',\n",
       " 'first',\n",
       " 'foreach',\n",
       " 'foreachPartition',\n",
       " 'freqItems',\n",
       " 'groupBy',\n",
       " 'groupby',\n",
       " 'head',\n",
       " 'hint',\n",
       " 'inputFiles',\n",
       " 'intersect',\n",
       " 'intersectAll',\n",
       " 'isEmpty',\n",
       " 'isLocal',\n",
       " 'isStreaming',\n",
       " 'is_cached',\n",
       " 'join',\n",
       " 'limit',\n",
       " 'localCheckpoint',\n",
       " 'mapInArrow',\n",
       " 'mapInPandas',\n",
       " 'melt',\n",
       " 'na',\n",
       " 'observe',\n",
       " 'orderBy',\n",
       " 'pandas_api',\n",
       " 'persist',\n",
       " 'printSchema',\n",
       " 'randomSplit',\n",
       " 'rdd',\n",
       " 'registerTempTable',\n",
       " 'repartition',\n",
       " 'repartitionByRange',\n",
       " 'replace',\n",
       " 'rollup',\n",
       " 'sameSemantics',\n",
       " 'sample',\n",
       " 'sampleBy',\n",
       " 'schema',\n",
       " 'select',\n",
       " 'selectExpr',\n",
       " 'semanticHash',\n",
       " 'show',\n",
       " 'sort',\n",
       " 'sortWithinPartitions',\n",
       " 'sparkSession',\n",
       " 'sql_ctx',\n",
       " 'stat',\n",
       " 'storageLevel',\n",
       " 'subtract',\n",
       " 'summary',\n",
       " 'tail',\n",
       " 'take',\n",
       " 'to',\n",
       " 'toDF',\n",
       " 'toJSON',\n",
       " 'toLocalIterator',\n",
       " 'toPandas',\n",
       " 'to_koalas',\n",
       " 'to_pandas_on_spark',\n",
       " 'transform',\n",
       " 'union',\n",
       " 'unionAll',\n",
       " 'unionByName',\n",
       " 'unpersist',\n",
       " 'unpivot',\n",
       " 'where',\n",
       " 'withColumn',\n",
       " 'withColumnRenamed',\n",
       " 'withColumns',\n",
       " 'withColumnsRenamed',\n",
       " 'withMetadata',\n",
       " 'withWatermark',\n",
       " 'write',\n",
       " 'writeStream',\n",
       " 'writeTo']"
      ]
     },
     "execution_count": 174,
     "metadata": {},
     "output_type": "execute_result"
    }
   ],
   "source": [
    "dir(testDf)"
   ]
  },
  {
   "cell_type": "code",
   "execution_count": 175,
   "id": "247863e7",
   "metadata": {},
   "outputs": [
    {
     "data": {
      "text/plain": [
       "1000"
      ]
     },
     "execution_count": 175,
     "metadata": {},
     "output_type": "execute_result"
    }
   ],
   "source": [
    "testDf.count()"
   ]
  },
  {
   "cell_type": "code",
   "execution_count": 176,
   "id": "5c475787",
   "metadata": {},
   "outputs": [],
   "source": [
    "testDf = testDf.dropDuplicates(['Movie'])"
   ]
  },
  {
   "cell_type": "code",
   "execution_count": 177,
   "id": "df6e13a0",
   "metadata": {},
   "outputs": [
    {
     "data": {
      "text/plain": [
       "['Rank',\n",
       " 'Title',\n",
       " 'Genre',\n",
       " 'Description',\n",
       " 'Director',\n",
       " 'Actors',\n",
       " 'Year',\n",
       " 'Runtime (Minutes)',\n",
       " 'Rating',\n",
       " 'Votes',\n",
       " 'Revenue (Millions)',\n",
       " 'Metascore']"
      ]
     },
     "execution_count": 177,
     "metadata": {},
     "output_type": "execute_result"
    }
   ],
   "source": [
    "Df.columns"
   ]
  },
  {
   "cell_type": "markdown",
   "id": "3ee23d54",
   "metadata": {},
   "source": [
    "### Dropping the Unwanted Column"
   ]
  },
  {
   "cell_type": "code",
   "execution_count": 178,
   "id": "30bac5bc",
   "metadata": {},
   "outputs": [],
   "source": [
    "df = Df.drop(\"Genre\")"
   ]
  },
  {
   "cell_type": "markdown",
   "id": "819abd46",
   "metadata": {},
   "source": [
    "### Conditional in PySpark\n",
    "    - if --> when\n",
    "    - else --> otherwise"
   ]
  },
  {
   "cell_type": "code",
   "execution_count": 179,
   "id": "dfabe2f6",
   "metadata": {},
   "outputs": [],
   "source": [
    "from pyspark.sql.functions import *"
   ]
  },
  {
   "cell_type": "code",
   "execution_count": 144,
   "id": "80580935",
   "metadata": {},
   "outputs": [],
   "source": [
    "df = df.withColumn(\"Rating_Value\",when(col('Rating')< 8,\"Good\")\n",
    "                   .when(col('Rating')< 5,\"Average\")\n",
    "                   .otherwise(\"Best\"))"
   ]
  },
  {
   "cell_type": "code",
   "execution_count": 145,
   "id": "440534a2",
   "metadata": {},
   "outputs": [],
   "source": [
    "df = df.select('Rating_value')"
   ]
  },
  {
   "cell_type": "code",
   "execution_count": 180,
   "id": "dcc61127",
   "metadata": {},
   "outputs": [
    {
     "name": "stdout",
     "output_type": "stream",
     "text": [
      "+----+--------------------+--------------------+----------------+--------------------+----+-----------------+------+------+------------------+---------+\n",
      "|Rank|               Title|         Description|        Director|              Actors|Year|Runtime (Minutes)|Rating| Votes|Revenue (Millions)|Metascore|\n",
      "+----+--------------------+--------------------+----------------+--------------------+----+-----------------+------+------+------------------+---------+\n",
      "| 105|The Man from U.N....|In the early 1960...|     Guy Ritchie|Henry Cavill, Arm...|2015|              116|   7.3|202973|             45.43|     56.0|\n",
      "| 492|     The Book of Eli|A post-apocalypti...|   Albert Hughes|Denzel Washington...|2010|              118|   6.9|241359|             94.82|     53.0|\n",
      "| 884|                 Rio|When Blu, a domes...| Carlos Saldanha|Jesse Eisenberg, ...|2011|               96|   6.9|173919|            143.62|     63.0|\n",
      "| 479|      Paint It Black|A young woman att...|   Amber Tamblyn|Alia Shawkat, Nan...|2016|               96|   8.3|    61|              null|     71.0|\n",
      "| 650|     Vampire Academy|Rose Hathaway is ...|     Mark Waters|Zoey Deutch, Lucy...|2014|              104|   5.6| 44111|              7.79|     30.0|\n",
      "| 546|    Midnight Special|A father and son ...|    Jeff Nichols|Michael Shannon, ...|2016|              112|   6.7| 54787|              3.71|     76.0|\n",
      "| 305|She's Out of My L...|An average Joe me...| Jim Field Smith|Jay Baruchel, Ali...|2010|              104|   6.4|105619|             31.58|     46.0|\n",
      "| 964|I Spit on Your Grave|A writer who is b...|Steven R. Monroe|Sarah Butler, Jef...|2010|              108|   6.3| 60133|              0.09|     27.0|\n",
      "| 686|   The King's Speech|The story of King...|      Tom Hooper|Colin Firth, Geof...|2010|              118|     8|534388|             138.8|     88.0|\n",
      "| 358|The Theory of Eve...|A look at the rel...|     James Marsh|Eddie Redmayne, F...|2014|              123|   7.7|299718|             35.89|     72.0|\n",
      "|  91|           Prisoners|When Keller Dover...|Denis Villeneuve|Hugh Jackman, Jak...|2013|              153|   8.1|431185|             60.96|     74.0|\n",
      "|   2|          Prometheus|Following clues t...|    Ridley Scott|Noomi Rapace, Log...|2012|              124|     7|485820|            126.46|     65.0|\n",
      "| 114|                 300|King Leonidas of ...|     Zack Snyder|Gerard Butler, Le...|2006|              117|   7.7|637104|            210.59|     52.0|\n",
      "| 137|No Country for Ol...|Violence and mayh...|      Ethan Coen|Tommy Lee Jones, ...|2007|              122|   8.1|660286|             74.27|     91.0|\n",
      "| 622|Underworld Awakening|When human forces...|    Måns Mårlind|Kate Beckinsale, ...|2012|               88|   6.4|127157|             62.32|     39.0|\n",
      "| 633|            The Host|A monster emerges...|    Bong Joon Ho|Kang-ho Song, Hee...|2006|              120|     7| 73491|               2.2|     85.0|\n",
      "| 700|    The Matchbreaker|\"When an idealist...|    Caleb Vetter|Wesley Elder, Chr...|2016|               94|   5.5|  1427|              null|     44.0|\n",
      "| 329|          Green Room|A punk rock band ...| Jeremy Saulnier|Anton Yelchin, Im...|2015|               95|     7| 62885|              3.22|     79.0|\n",
      "| 239|The Grand Budapes...|The adventures of...|    Wes Anderson|Ralph Fiennes, F....|2014|               99|   8.1|530881|             59.07|     88.0|\n",
      "| 495|      Under the Skin|A mysterious youn...| Jonathan Glazer|Scarlett Johansso...|2013|              108|   6.3| 94707|              2.61|     78.0|\n",
      "+----+--------------------+--------------------+----------------+--------------------+----+-----------------+------+------+------------------+---------+\n",
      "only showing top 20 rows\n",
      "\n"
     ]
    }
   ],
   "source": [
    "df.show()"
   ]
  },
  {
   "cell_type": "markdown",
   "id": "1ffaae09",
   "metadata": {},
   "source": [
    "## Creating a User Defined Function"
   ]
  },
  {
   "cell_type": "code",
   "execution_count": 185,
   "id": "f12a8109",
   "metadata": {},
   "outputs": [],
   "source": [
    "def concat_shell(column):\n",
    "    return column + \"_shell\""
   ]
  },
  {
   "cell_type": "code",
   "execution_count": 186,
   "id": "8d075592",
   "metadata": {},
   "outputs": [
    {
     "data": {
      "text/plain": [
       "'tes_shell'"
      ]
     },
     "execution_count": 186,
     "metadata": {},
     "output_type": "execute_result"
    }
   ],
   "source": [
    "concat_shell(\"tes\")"
   ]
  },
  {
   "cell_type": "markdown",
   "id": "b97f6570",
   "metadata": {},
   "source": [
    "### Registering the User Defined Function to PySpark"
   ]
  },
  {
   "cell_type": "code",
   "execution_count": 187,
   "id": "98db3e9e",
   "metadata": {},
   "outputs": [],
   "source": [
    "my_uds = udf(concat_shell,StringType())"
   ]
  },
  {
   "cell_type": "markdown",
   "id": "4e6b63e6",
   "metadata": {},
   "source": [
    "### Using the User Defined Function"
   ]
  },
  {
   "cell_type": "code",
   "execution_count": 188,
   "id": "0a9255e5",
   "metadata": {},
   "outputs": [],
   "source": [
    "testDf = df.withColumn(\"new_col\",my_uds(col(\"Title\")))"
   ]
  },
  {
   "cell_type": "code",
   "execution_count": 189,
   "id": "f6cf6640",
   "metadata": {},
   "outputs": [
    {
     "name": "stderr",
     "output_type": "stream",
     "text": [
      "\r",
      "[Stage 159:>                                                        (0 + 1) / 1]\r"
     ]
    },
    {
     "name": "stdout",
     "output_type": "stream",
     "text": [
      "+--------------------+\n",
      "|             new_col|\n",
      "+--------------------+\n",
      "|The House Bunny_s...|\n",
      "|       Ant-Man_shell|\n",
      "|  Tomorrowland_shell|\n",
      "|         Taken_shell|\n",
      "|Suite Française_s...|\n",
      "|    Knocked Up_shell|\n",
      "|           Joy_shell|\n",
      "|The Huntsman: Win...|\n",
      "|        Looper_shell|\n",
      "|      The Town_shell|\n",
      "|        Detour_shell|\n",
      "|We Are Your Frien...|\n",
      "|  Blood Father_shell|\n",
      "|Secret in Their E...|\n",
      "|X-Men: Apocalypse...|\n",
      "|Hunt for the Wild...|\n",
      "|      Stardust_shell|\n",
      "|The Girl with the...|\n",
      "|Couples Retreat_s...|\n",
      "| Sausage Party_shell|\n",
      "+--------------------+\n",
      "only showing top 20 rows\n",
      "\n"
     ]
    },
    {
     "name": "stderr",
     "output_type": "stream",
     "text": [
      "\r",
      "                                                                                \r"
     ]
    }
   ],
   "source": [
    "testDf.select(\"new_col\").show()"
   ]
  },
  {
   "cell_type": "markdown",
   "id": "d7defe55",
   "metadata": {},
   "source": [
    "## Caching"
   ]
  },
  {
   "cell_type": "code",
   "execution_count": 190,
   "id": "39fd9894",
   "metadata": {},
   "outputs": [],
   "source": [
    " CDf = spark.read.option(\"inferSchema\",True).option(\"header\",True).csv(SRC)"
   ]
  },
  {
   "cell_type": "code",
   "execution_count": 191,
   "id": "5d615f3a",
   "metadata": {},
   "outputs": [
    {
     "name": "stdout",
     "output_type": "stream",
     "text": [
      "root\n",
      " |-- Rank: integer (nullable = true)\n",
      " |-- Title: string (nullable = true)\n",
      " |-- Genre: string (nullable = true)\n",
      " |-- Description: string (nullable = true)\n",
      " |-- Director: string (nullable = true)\n",
      " |-- Actors: string (nullable = true)\n",
      " |-- Year: string (nullable = true)\n",
      " |-- Runtime (Minutes): string (nullable = true)\n",
      " |-- Rating: string (nullable = true)\n",
      " |-- Votes: string (nullable = true)\n",
      " |-- Revenue (Millions): double (nullable = true)\n",
      " |-- Metascore: double (nullable = true)\n",
      "\n"
     ]
    }
   ],
   "source": [
    "CDf.printSchema()"
   ]
  },
  {
   "cell_type": "code",
   "execution_count": 194,
   "id": "b20b7cbb",
   "metadata": {},
   "outputs": [
    {
     "name": "stderr",
     "output_type": "stream",
     "text": [
      "23/09/22 08:33:57 WARN CacheManager: Asked to cache already cached data.\n"
     ]
    }
   ],
   "source": [
    "CDf = CDf.cache()"
   ]
  },
  {
   "cell_type": "markdown",
   "id": "3259b087",
   "metadata": {},
   "source": [
    "# Joins in PySpark"
   ]
  },
  {
   "cell_type": "code",
   "execution_count": null,
   "id": "a7c52aa4",
   "metadata": {},
   "outputs": [],
   "source": []
  }
 ],
 "metadata": {
  "kernelspec": {
   "display_name": "Python 3 (ipykernel)",
   "language": "python",
   "name": "python3"
  },
  "language_info": {
   "codemirror_mode": {
    "name": "ipython",
    "version": 3
   },
   "file_extension": ".py",
   "mimetype": "text/x-python",
   "name": "python",
   "nbconvert_exporter": "python",
   "pygments_lexer": "ipython3",
   "version": "3.11.4"
  }
 },
 "nbformat": 4,
 "nbformat_minor": 5
}
